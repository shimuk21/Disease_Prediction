{
 "cells": [
  {
   "cell_type": "markdown",
   "id": "5df9fec6",
   "metadata": {},
   "source": [
    "#### Prepare Data "
   ]
  },
  {
   "cell_type": "code",
   "execution_count": 2,
   "id": "ddbf0f61",
   "metadata": {},
   "outputs": [],
   "source": [
    "import re\n",
    "\n",
    "import random\n",
    "\n",
    "import pandas as pd\n",
    "from sklearn.model_selection import train_test_split\n",
    "from nltk.corpus import stopwords\n",
    "from wordcloud import WordCloud, STOPWORDS\n",
    "from nltk.stem import PorterStemmer, WordNetLemmatizer\n",
    "from bs4 import BeautifulSoup\n",
    "from sklearn.model_selection import train_test_split"
   ]
  },
  {
   "cell_type": "code",
   "execution_count": 1,
   "id": "3ce42b30",
   "metadata": {},
   "outputs": [],
   "source": [
    "\n",
    "\n",
    "random.seed(0)\n",
    "templates = [\n",
    "    \"Patient is experiencing {}.\",\n",
    "    \"Reported signs of {}.\",\n",
    "    \"Occasional {} experienced by patient.\",\n",
    "    \"{}.\",\n",
    "    \"Issues of frequent {}.\",\n",
    "    \"{} over the last few days.\",\n",
    "    \"Sporadic {}.\",\n",
    "    \"Mild case of {}.\"\n",
    "]\n",
    "\n",
    "neg_templates = [\n",
    "    \"Patient reports no {}.\",\n",
    "    \"No evidence of {} seen.\",\n",
    "    \"{} is not present.\"\n",
    "]\n",
    "\n",
    "\n",
    "def to_symptoms_string(row: pd.Series) -> str:\n",
    "    \"\"\"transform an indicator row of symptoms into a shuffled string\n",
    "\n",
    "    Args:\n",
    "        row (pd.Series): indicator row of symptoms\n",
    "\n",
    "    Returns:\n",
    "        str: shuffled string representation of indicator symptoms\n",
    "    \"\"\"\n",
    "    symptoms = row.index.values[row.values == 1].tolist()\n",
    "    non_symptoms = row.index.values[row.values == 0].tolist()\n",
    "    random.shuffle(symptoms)\n",
    "    symptom_sentences = []\n",
    "    for symptom in symptoms:\n",
    "        symptom_sentences.append(\n",
    "            templates[random.randint(0, len(templates) - 1)]\n",
    "            .replace(\"{}\", symptom)\n",
    "        )\n",
    "\n",
    "    total_negative = 0\n",
    "    for non_symptom in non_symptoms:\n",
    "        if random.random() < 0.1 and total_negative < 3:\n",
    "            symptom_sentences.append(\n",
    "                neg_templates[random.randint(0, len(neg_templates) - 1)]\n",
    "                .replace(\"{}\", non_symptom)\n",
    "            )\n",
    "            total_negative += 1\n",
    "\n",
    "    random.shuffle(symptom_sentences)\n",
    "\n",
    "    res = \" \".join(symptom_sentences) \\\n",
    "        .replace(\" _\", \" \") \\\n",
    "        .replace(\"_ \", \" \") \\\n",
    "        .replace(\"_\", \" \")\n",
    "\n",
    "    return res\n",
    "\n",
    "\n",
    "def add_noise(data):\n",
    "    if 'Unnamed: 133' in data.columns:\n",
    "        data = data.drop('Unnamed: 133', axis=1)\n",
    "    data['symptoms'] = data.apply(to_symptoms_string, axis=1)\n",
    "    return data[['symptoms', 'prognosis']]\n",
    "\n",
    "\n",
    "training = pd.read_csv(\"Training.csv\")\n",
    "testing = pd.read_csv(\"Testing.csv\")\n",
    "\n",
    "\n",
    "\n",
    "add_noise(training).to_csv(\"Training1_1.csv\", index=None)\n",
    "add_noise(testing).to_csv(\"Testing1_1.csv\", index=None)\n",
    "\n"
   ]
  },
  {
   "cell_type": "code",
   "execution_count": 3,
   "id": "55d6b29e",
   "metadata": {},
   "outputs": [],
   "source": [
    "train_df_3 = pd.read_csv(\"Disease1_2.csv\")\n",
    "test_df_3 = pd.read_csv(\"Testing1_1.csv\")\n",
    "train_df_2 = pd.read_csv(\"Training1_1.csv\")"
   ]
  },
  {
   "cell_type": "code",
   "execution_count": 4,
   "id": "ddb94174",
   "metadata": {},
   "outputs": [
    {
     "data": {
      "text/plain": [
       "array(['Fungal infection', 'Allergy', 'GERD', 'Chronic cholestasis',\n",
       "       'Drug Reaction', 'Peptic ulcer diseae', 'AIDS', 'Diabetes',\n",
       "       'Gastroenteritis', 'Bronchial Asthma', 'Hypertension', 'Migraine',\n",
       "       'Cervical spondylosis', 'Paralysis (brain hemorrhage)', 'Jaundice',\n",
       "       'Malaria', 'Chicken pox', 'Dengue', 'Typhoid', 'hepatitis A',\n",
       "       'Hepatitis B', 'Hepatitis C', 'Hepatitis D', 'Hepatitis E',\n",
       "       'Alcoholic hepatitis', 'Tuberculosis', 'Common Cold', 'Pneumonia',\n",
       "       'Dimorphic hemmorhoids(piles)', 'Heart attack', 'Varicose veins',\n",
       "       'Hypothyroidism', 'Hyperthyroidism', 'Hypoglycemia',\n",
       "       'Osteoarthristis', 'Arthritis', 'Paroymsal Positional Vertigo',\n",
       "       'Acne', 'Urinary tract infection', 'Psoriasis', 'Impetigo'],\n",
       "      dtype=object)"
      ]
     },
     "execution_count": 4,
     "metadata": {},
     "output_type": "execute_result"
    }
   ],
   "source": [
    "train_df_3[\"prognosis\"].unique()"
   ]
  },
  {
   "cell_type": "code",
   "execution_count": 5,
   "id": "e9e993ae",
   "metadata": {},
   "outputs": [
    {
     "data": {
      "text/plain": [
       "41"
      ]
     },
     "execution_count": 5,
     "metadata": {},
     "output_type": "execute_result"
    }
   ],
   "source": [
    "test_df_3[\"prognosis\"].nunique()"
   ]
  },
  {
   "cell_type": "code",
   "execution_count": 6,
   "id": "1d5e2e5f",
   "metadata": {},
   "outputs": [
    {
     "data": {
      "text/plain": [
       "41"
      ]
     },
     "execution_count": 6,
     "metadata": {},
     "output_type": "execute_result"
    }
   ],
   "source": [
    "train_df_2[\"prognosis\"].nunique()"
   ]
  },
  {
   "cell_type": "code",
   "execution_count": 7,
   "id": "fb7155aa",
   "metadata": {},
   "outputs": [
    {
     "data": {
      "text/html": [
       "<div>\n",
       "<style scoped>\n",
       "    .dataframe tbody tr th:only-of-type {\n",
       "        vertical-align: middle;\n",
       "    }\n",
       "\n",
       "    .dataframe tbody tr th {\n",
       "        vertical-align: top;\n",
       "    }\n",
       "\n",
       "    .dataframe thead th {\n",
       "        text-align: right;\n",
       "    }\n",
       "</style>\n",
       "<table border=\"1\" class=\"dataframe\">\n",
       "  <thead>\n",
       "    <tr style=\"text-align: right;\">\n",
       "      <th></th>\n",
       "      <th>symptoms</th>\n",
       "      <th>prognosis</th>\n",
       "    </tr>\n",
       "  </thead>\n",
       "  <tbody>\n",
       "    <tr>\n",
       "      <th>0</th>\n",
       "      <td>Patient reports no weight gain. No evidence of...</td>\n",
       "      <td>Fungal infection</td>\n",
       "    </tr>\n",
       "    <tr>\n",
       "      <th>1</th>\n",
       "      <td>ulcers on tongue is not present. Sporadic noda...</td>\n",
       "      <td>Fungal infection</td>\n",
       "    </tr>\n",
       "    <tr>\n",
       "      <th>2</th>\n",
       "      <td>Mild case of dischromic patches. Patient is ex...</td>\n",
       "      <td>Fungal infection</td>\n",
       "    </tr>\n",
       "    <tr>\n",
       "      <th>3</th>\n",
       "      <td>Mild case of skin rash. Sporadic dischromic pa...</td>\n",
       "      <td>Fungal infection</td>\n",
       "    </tr>\n",
       "    <tr>\n",
       "      <th>4</th>\n",
       "      <td>Patient is experiencing itching. Patient repor...</td>\n",
       "      <td>Fungal infection</td>\n",
       "    </tr>\n",
       "    <tr>\n",
       "      <th>...</th>\n",
       "      <td>...</td>\n",
       "      <td>...</td>\n",
       "    </tr>\n",
       "    <tr>\n",
       "      <th>4956</th>\n",
       "      <td>Reported signs of unsteadiness. Sporadic spinn...</td>\n",
       "      <td>Paroymsal Positional Vertigo</td>\n",
       "    </tr>\n",
       "    <tr>\n",
       "      <th>4957</th>\n",
       "      <td>Occasional blackheads experienced by patient. ...</td>\n",
       "      <td>Acne</td>\n",
       "    </tr>\n",
       "    <tr>\n",
       "      <th>4958</th>\n",
       "      <td>Patient reports no lethargy. Patient reports n...</td>\n",
       "      <td>Urinary tract infection</td>\n",
       "    </tr>\n",
       "    <tr>\n",
       "      <th>4959</th>\n",
       "      <td>small dents in nails over the last few days. P...</td>\n",
       "      <td>Psoriasis</td>\n",
       "    </tr>\n",
       "    <tr>\n",
       "      <th>4960</th>\n",
       "      <td>blister. mild fever is not present. Patient re...</td>\n",
       "      <td>Impetigo</td>\n",
       "    </tr>\n",
       "  </tbody>\n",
       "</table>\n",
       "<p>4961 rows × 2 columns</p>\n",
       "</div>"
      ],
      "text/plain": [
       "                                               symptoms  \\\n",
       "0     Patient reports no weight gain. No evidence of...   \n",
       "1     ulcers on tongue is not present. Sporadic noda...   \n",
       "2     Mild case of dischromic patches. Patient is ex...   \n",
       "3     Mild case of skin rash. Sporadic dischromic pa...   \n",
       "4     Patient is experiencing itching. Patient repor...   \n",
       "...                                                 ...   \n",
       "4956  Reported signs of unsteadiness. Sporadic spinn...   \n",
       "4957  Occasional blackheads experienced by patient. ...   \n",
       "4958  Patient reports no lethargy. Patient reports n...   \n",
       "4959  small dents in nails over the last few days. P...   \n",
       "4960  blister. mild fever is not present. Patient re...   \n",
       "\n",
       "                         prognosis  \n",
       "0                 Fungal infection  \n",
       "1                 Fungal infection  \n",
       "2                 Fungal infection  \n",
       "3                 Fungal infection  \n",
       "4                 Fungal infection  \n",
       "...                            ...  \n",
       "4956  Paroymsal Positional Vertigo  \n",
       "4957                          Acne  \n",
       "4958       Urinary tract infection  \n",
       "4959                     Psoriasis  \n",
       "4960                      Impetigo  \n",
       "\n",
       "[4961 rows x 2 columns]"
      ]
     },
     "execution_count": 7,
     "metadata": {},
     "output_type": "execute_result"
    }
   ],
   "source": [
    "train_df_3"
   ]
  },
  {
   "cell_type": "code",
   "execution_count": 8,
   "id": "b72ca02d",
   "metadata": {},
   "outputs": [
    {
     "data": {
      "text/html": [
       "<div>\n",
       "<style scoped>\n",
       "    .dataframe tbody tr th:only-of-type {\n",
       "        vertical-align: middle;\n",
       "    }\n",
       "\n",
       "    .dataframe tbody tr th {\n",
       "        vertical-align: top;\n",
       "    }\n",
       "\n",
       "    .dataframe thead th {\n",
       "        text-align: right;\n",
       "    }\n",
       "</style>\n",
       "<table border=\"1\" class=\"dataframe\">\n",
       "  <thead>\n",
       "    <tr style=\"text-align: right;\">\n",
       "      <th></th>\n",
       "      <th>symptoms</th>\n",
       "      <th>prognosis</th>\n",
       "    </tr>\n",
       "  </thead>\n",
       "  <tbody>\n",
       "    <tr>\n",
       "      <th>0</th>\n",
       "      <td>skin rash over the last few days. No evidence ...</td>\n",
       "      <td>Fungal infection</td>\n",
       "    </tr>\n",
       "    <tr>\n",
       "      <th>1</th>\n",
       "      <td>No evidence of phlegm seen. Issues of frequent...</td>\n",
       "      <td>Allergy</td>\n",
       "    </tr>\n",
       "    <tr>\n",
       "      <th>2</th>\n",
       "      <td>acidity over the last few days. Issues of freq...</td>\n",
       "      <td>GERD</td>\n",
       "    </tr>\n",
       "    <tr>\n",
       "      <th>3</th>\n",
       "      <td>lethargy is not present. Issues of frequent ye...</td>\n",
       "      <td>Chronic cholestasis</td>\n",
       "    </tr>\n",
       "    <tr>\n",
       "      <th>4</th>\n",
       "      <td>Mild case of skin rash. Occasional spotting ur...</td>\n",
       "      <td>Drug Reaction</td>\n",
       "    </tr>\n",
       "  </tbody>\n",
       "</table>\n",
       "</div>"
      ],
      "text/plain": [
       "                                            symptoms            prognosis\n",
       "0  skin rash over the last few days. No evidence ...     Fungal infection\n",
       "1  No evidence of phlegm seen. Issues of frequent...              Allergy\n",
       "2  acidity over the last few days. Issues of freq...                 GERD\n",
       "3  lethargy is not present. Issues of frequent ye...  Chronic cholestasis\n",
       "4  Mild case of skin rash. Occasional spotting ur...        Drug Reaction"
      ]
     },
     "execution_count": 8,
     "metadata": {},
     "output_type": "execute_result"
    }
   ],
   "source": [
    "test_df_3.head()"
   ]
  },
  {
   "cell_type": "code",
   "execution_count": 9,
   "id": "a2f33e41",
   "metadata": {},
   "outputs": [],
   "source": [
    "def removeApostrophe(x):\n",
    "    x = re.sub(\"won\\`t\", \"will not\", x)\n",
    "    x = re.sub(\"can\\`t\", \"can not\", x)\n",
    "    x = re.sub(r\"couldn\\`t\", \"could not\", x)\n",
    "    x = re.sub(\"wouldn\\`t\", \"would not\", x)\n",
    "    x = re.sub(\"n\\`t\", \" not\", x)\n",
    "    x = re.sub(\"\\`re\", \" are\", x)\n",
    "    x = re.sub(r\"\\`s\", \" is\", x)\n",
    "    x = re.sub(\"\\`d\", \" would\", x)\n",
    "    x = re.sub(r\"\\`ll\", \" will\", x)\n",
    "    x = re.sub(r\"\\`t\", \" not\", x)\n",
    "    x = re.sub(r\"\\`ve\", \" have\", x)\n",
    "    x = re.sub(r\"\\`m\", \" am\", x)\n",
    "    return x\n",
    "\n",
    "\n",
    "\n",
    "def removeHTMLTags(x):\n",
    "    soup = BeautifulSoup(x, 'lxml')\n",
    "    return soup.get_text()\n",
    "\n",
    "\n",
    "def removeSpecialChars(x):\n",
    "    return re.sub('[^a-zA-Z]', ' ', x)\n",
    "\n",
    "def removeurl(x):\n",
    "    x = re.sub(r'(https|http)?:\\/\\/(\\w|\\.|\\/|\\?|\\=|\\&|\\%)*\\b', '', x, flags=re.MULTILINE)\n",
    "    return(x)\n",
    "\n",
    "\n",
    "def removeAlphaNumericWords(x):\n",
    "    return re.sub(\"\\S*\\d\\S*\", \"\", x).strip()\n",
    "\n",
    "\n",
    "train_df_3[\"symptoms\"] = train_df_3[\"symptoms\"].apply(removeurl)\n",
    "train_df_3[\"symptoms\"] = train_df_3[\"symptoms\"].apply(removeHTMLTags)\n",
    "train_df_3[\"symptoms\"] = train_df_3[\"symptoms\"].apply(removeApostrophe)\n",
    "train_df_3[\"symptoms\"] = train_df_3[\"symptoms\"].apply(removeAlphaNumericWords)\n",
    "train_df_3[\"symptoms\"] = train_df_3[\"symptoms\"].apply(removeSpecialChars)\n",
    "\n",
    "train_df_2[\"symptoms\"] = train_df_2[\"symptoms\"].apply(removeurl)\n",
    "train_df_2[\"symptoms\"] = train_df_2[\"symptoms\"].apply(removeHTMLTags)\n",
    "train_df_2[\"symptoms\"] = train_df_2[\"symptoms\"].apply(removeApostrophe)\n",
    "train_df_2[\"symptoms\"] = train_df_2[\"symptoms\"].apply(removeAlphaNumericWords)\n",
    "train_df_2[\"symptoms\"] = train_df_2[\"symptoms\"].apply(removeSpecialChars)\n",
    "\n",
    "test_df_3[\"symptoms\"] = test_df_3[\"symptoms\"].apply(removeurl)\n",
    "test_df_3[\"symptoms\"] = test_df_3[\"symptoms\"].apply(removeHTMLTags)\n",
    "test_df_3[\"symptoms\"] = test_df_3[\"symptoms\"].apply(removeApostrophe)\n",
    "test_df_3[\"symptoms\"] = test_df_3[\"symptoms\"].apply(removeAlphaNumericWords)\n",
    "test_df_3[\"symptoms\"] = test_df_3[\"symptoms\"].apply(removeSpecialChars)"
   ]
  },
  {
   "cell_type": "code",
   "execution_count": 10,
   "id": "011495aa",
   "metadata": {},
   "outputs": [
    {
     "data": {
      "text/html": [
       "<div>\n",
       "<style scoped>\n",
       "    .dataframe tbody tr th:only-of-type {\n",
       "        vertical-align: middle;\n",
       "    }\n",
       "\n",
       "    .dataframe tbody tr th {\n",
       "        vertical-align: top;\n",
       "    }\n",
       "\n",
       "    .dataframe thead th {\n",
       "        text-align: right;\n",
       "    }\n",
       "</style>\n",
       "<table border=\"1\" class=\"dataframe\">\n",
       "  <thead>\n",
       "    <tr style=\"text-align: right;\">\n",
       "      <th></th>\n",
       "      <th>symptoms</th>\n",
       "      <th>prognosis</th>\n",
       "    </tr>\n",
       "  </thead>\n",
       "  <tbody>\n",
       "    <tr>\n",
       "      <th>0</th>\n",
       "      <td>skin rash over the last few days  No evidence ...</td>\n",
       "      <td>Fungal infection</td>\n",
       "    </tr>\n",
       "    <tr>\n",
       "      <th>1</th>\n",
       "      <td>No evidence of phlegm seen  Issues of frequent...</td>\n",
       "      <td>Allergy</td>\n",
       "    </tr>\n",
       "    <tr>\n",
       "      <th>2</th>\n",
       "      <td>acidity over the last few days  Issues of freq...</td>\n",
       "      <td>GERD</td>\n",
       "    </tr>\n",
       "    <tr>\n",
       "      <th>3</th>\n",
       "      <td>lethargy is not present  Issues of frequent ye...</td>\n",
       "      <td>Chronic cholestasis</td>\n",
       "    </tr>\n",
       "    <tr>\n",
       "      <th>4</th>\n",
       "      <td>Mild case of skin rash  Occasional spotting ur...</td>\n",
       "      <td>Drug Reaction</td>\n",
       "    </tr>\n",
       "  </tbody>\n",
       "</table>\n",
       "</div>"
      ],
      "text/plain": [
       "                                            symptoms            prognosis\n",
       "0  skin rash over the last few days  No evidence ...     Fungal infection\n",
       "1  No evidence of phlegm seen  Issues of frequent...              Allergy\n",
       "2  acidity over the last few days  Issues of freq...                 GERD\n",
       "3  lethargy is not present  Issues of frequent ye...  Chronic cholestasis\n",
       "4  Mild case of skin rash  Occasional spotting ur...        Drug Reaction"
      ]
     },
     "execution_count": 10,
     "metadata": {},
     "output_type": "execute_result"
    }
   ],
   "source": [
    "test_df_3.head()\n"
   ]
  },
  {
   "cell_type": "code",
   "execution_count": 11,
   "id": "4146c638",
   "metadata": {},
   "outputs": [],
   "source": [
    "# Lower casing & Tokenization \n",
    "test_df_3[\"symptoms\"] = test_df_3[\"symptoms\"].str.strip().str.lower()\n",
    "train_df_3[\"symptoms\"] = train_df_3[\"symptoms\"].str.strip().str.lower()\n",
    "train_df_2[\"symptoms\"] = train_df_2[\"symptoms\"].str.strip().str.lower()"
   ]
  },
  {
   "cell_type": "code",
   "execution_count": 12,
   "id": "18758aae",
   "metadata": {},
   "outputs": [],
   "source": [
    "def dostemming(x):\n",
    "\n",
    "    #Removing Stopwords and Lemmatization\n",
    "    porter = PorterStemmer()\n",
    "    if type(x) == type(''):\n",
    "        x = porter.stem(x)\n",
    "        example1 = BeautifulSoup(x)\n",
    "        x = example1.get_text()\n",
    "      \n",
    "    return x\n",
    "\n",
    "train_df_3[\"symptoms\"] = train_df_3[\"symptoms\"].fillna(\"\").apply(dostemming)\n",
    "test_df_3[\"symptoms\"] = test_df_3[\"symptoms\"].fillna(\"\").apply(dostemming)\n",
    "train_df_2[\"symptoms\"] = train_df_2[\"symptoms\"].fillna(\"\").apply(dostemming)\n"
   ]
  },
  {
   "cell_type": "markdown",
   "id": "b0d709cd",
   "metadata": {},
   "source": [
    "###### TF IDF "
   ]
  },
  {
   "cell_type": "code",
   "execution_count": 13,
   "id": "e12702be",
   "metadata": {},
   "outputs": [],
   "source": [
    "from sklearn.feature_extraction.text import TfidfVectorizer\n",
    "tfidf = TfidfVectorizer()\n",
    "text_count_1 = tfidf.fit_transform(train_df_3[\"symptoms\"])"
   ]
  },
  {
   "cell_type": "code",
   "execution_count": 14,
   "id": "ba6fe391",
   "metadata": {},
   "outputs": [],
   "source": [
    "x = text_count_1\n",
    "y = train_df_3['prognosis']\n",
    "\n",
    "x_train, x_test, y_train, y_test = train_test_split(x, y, test_size=0.20)\n"
   ]
  },
  {
   "cell_type": "markdown",
   "id": "9d80dc99",
   "metadata": {},
   "source": [
    "#### Train ML models \n"
   ]
  },
  {
   "cell_type": "code",
   "execution_count": 15,
   "id": "f7b21b80",
   "metadata": {},
   "outputs": [],
   "source": [
    "# Import Dependencies\n",
    "import csv\n",
    "import pandas as pd\n",
    "import numpy as np\n",
    "from collections import defaultdict\n",
    "import seaborn as sns\n",
    "import matplotlib.pyplot as plt\n",
    "%matplotlib inline\n",
    "\n",
    "from sklearn import preprocessing\n",
    "from sklearn.preprocessing import LabelEncoder\n",
    "from sklearn.preprocessing import OneHotEncoder\n",
    "\n",
    "\n",
    "import networkx as nx\n",
    "import graphviz\n",
    "from IPython.display import display\n",
    "from collections import defaultdict\n",
    "\n",
    "from sklearn import tree \n",
    "from sklearn.pipeline import Pipeline\n",
    "from sklearn.metrics import accuracy_score\n",
    "\n",
    "\n",
    "from sklearn import metrics\n",
    "\n",
    "\n",
    "from sklearn.naive_bayes import MultinomialNB\n",
    "from sklearn.tree import DecisionTreeClassifier, export_graphviz\n",
    "from sklearn.ensemble import RandomForestClassifier\n",
    "from sklearn.neighbors import KNeighborsClassifier\n",
    "from sklearn.metrics import confusion_matrix, classification_report, accuracy_score, precision_score, recall_score, f1_score \n",
    "from sklearn.linear_model import LogisticRegression\n",
    "from sklearn.model_selection import train_test_split, cross_validate\n",
    "\n",
    "import warnings\n",
    "warnings.filterwarnings(\"ignore\")"
   ]
  },
  {
   "cell_type": "markdown",
   "id": "6de2c6b3",
   "metadata": {},
   "source": [
    "#### Naive Bayes"
   ]
  },
  {
   "cell_type": "code",
   "execution_count": 16,
   "id": "c23bc335",
   "metadata": {},
   "outputs": [],
   "source": [
    "mnb1 = MultinomialNB()\n",
    "mnb1 = mnb1.fit(x_train, y_train)"
   ]
  },
  {
   "cell_type": "code",
   "execution_count": 17,
   "id": "4c5033b5",
   "metadata": {},
   "outputs": [
    {
     "name": "stdout",
     "output_type": "stream",
     "text": [
      "Accuracy Score of Multinomial Naive Bayes:  0.9899295065458208\n",
      "Precision Score of Multinomial Naive Bayes:  0.9891755890913563\n",
      "Recall Score of Multinomial Naive Bayes:  0.9911400558528805\n",
      "F1-Score of Multinomial Naive Bayes:  0.9897664316709516\n"
     ]
    }
   ],
   "source": [
    "pred_mnb1 = mnb1.predict(x_test)\n",
    "\n",
    "print(\"Accuracy Score of Multinomial Naive Bayes: \", accuracy_score(y_test, pred_mnb1))\n",
    "print(\"Precision Score of Multinomial Naive Bayes: \", precision_score(y_test, pred_mnb1, average= 'macro'))\n",
    "print(\"Recall Score of Multinomial Naive Bayes: \", recall_score(y_test, pred_mnb1, average='macro'))\n",
    "print(\"F1-Score of Multinomial Naive Bayes: \", f1_score(y_test, pred_mnb1, average='macro'))\n"
   ]
  },
  {
   "cell_type": "markdown",
   "id": "99413d0f",
   "metadata": {},
   "source": [
    "#### Decision Tree"
   ]
  },
  {
   "cell_type": "code",
   "execution_count": 18,
   "id": "0fda67d7",
   "metadata": {},
   "outputs": [
    {
     "name": "stdout",
     "output_type": "stream",
     "text": [
      "DecisionTree\n"
     ]
    }
   ],
   "source": [
    "print (\"DecisionTree\")\n",
    "dt = DecisionTreeClassifier(min_samples_split=20)\n",
    "dt=dt.fit(x_train,y_train)"
   ]
  },
  {
   "cell_type": "code",
   "execution_count": 19,
   "id": "01b41f1b",
   "metadata": {},
   "outputs": [
    {
     "name": "stdout",
     "output_type": "stream",
     "text": [
      "Accuracy Score of Decision Tree:  0.945619335347432\n",
      "Precision Score of Decision Tree:  0.9519296254792555\n",
      "Recall Score of Decision Tree:  0.945619335347432\n",
      "F1-Score of Decision Tree:  0.9467392136301374\n"
     ]
    }
   ],
   "source": [
    "pred_dt1 = dt.predict(x_test)\n",
    "\n",
    "print(\"Accuracy Score of Decision Tree: \", metrics.accuracy_score(y_test, pred_dt1))\n",
    "print(\"Precision Score of Decision Tree: \", metrics.precision_score(y_test, pred_dt1, average= 'weighted'))\n",
    "print(\"Recall Score of Decision Tree: \", metrics.recall_score(y_test, pred_dt1, average='weighted'))\n",
    "print(\"F1-Score of Decision Tree: \", metrics.f1_score(y_test, pred_dt1, average='weighted'))"
   ]
  },
  {
   "cell_type": "markdown",
   "id": "814fabdc",
   "metadata": {},
   "source": [
    "#### NN"
   ]
  },
  {
   "cell_type": "code",
   "execution_count": 20,
   "id": "bc843463",
   "metadata": {},
   "outputs": [
    {
     "name": "stdout",
     "output_type": "stream",
     "text": [
      "pygame 2.3.0 (SDL 2.24.2, Python 3.9.12)\n",
      "Hello from the pygame community. https://www.pygame.org/contribute.html\n"
     ]
    }
   ],
   "source": [
    "import numpy as np \n",
    "import pandas as pd \n",
    "import os\n",
    "import cv2\n",
    "import matplotlib.pyplot as plt \n",
    "import tensorflow as tf\n",
    "from tensorflow.keras import layers\n",
    "\n",
    "from tensorflow.keras.layers import Input, Lambda, Dense, Flatten, Conv2D, MaxPooling2D, Dropout\n",
    "from tensorflow.keras.models import Model\n",
    "from tensorflow.keras.models import Sequential\n",
    "\n",
    "from sklearn.metrics import classification_report\n",
    "from math import sqrt\n",
    "import sklearn.metrics as metrics\n",
    "from sklearn.metrics import mean_squared_error,mean_absolute_error\n",
    "from sklearn.metrics import accuracy_score, confusion_matrix\n",
    "from keras.layers import GlobalAveragePooling2D\n",
    "from sklearn.metrics import log_loss\n",
    "from sklearn.model_selection import train_test_split\n",
    "from sklearn.metrics import roc_curve,roc_auc_score\n",
    "from sklearn.metrics import auc\n",
    "from keras.applications.vgg16 import VGG16\n",
    "from tensorflow.keras.optimizers.legacy import Adam\n",
    "from sklearn.preprocessing import LabelBinarizer\n",
    "\n",
    "\n",
    "\n",
    "import keras\n",
    "from keras.models import Sequential\n",
    "from keras.callbacks import ModelCheckpoint\n",
    "from keras.layers import Dropout,Conv2D,Flatten,Dense, MaxPooling2D, BatchNormalization\n",
    "from keras.preprocessing import image\n",
    "from keras.preprocessing.image import ImageDataGenerator\n",
    "from keras.utils.np_utils import to_categorical\n",
    "import random,shutil\n",
    "from keras.models import load_model\n",
    "\n",
    "from pygame import mixer\n",
    "import time\n"
   ]
  },
  {
   "cell_type": "code",
   "execution_count": null,
   "id": "a1d1c50f",
   "metadata": {},
   "outputs": [],
   "source": []
  },
  {
   "cell_type": "code",
   "execution_count": null,
   "id": "cb894b81",
   "metadata": {},
   "outputs": [],
   "source": []
  },
  {
   "cell_type": "code",
   "execution_count": 21,
   "id": "1152151e",
   "metadata": {},
   "outputs": [],
   "source": [
    "from sklearn.feature_extraction.text import TfidfVectorizer\n",
    "tfidf = TfidfVectorizer()\n",
    "text_count_3 = tfidf.fit_transform(train_df_2[\"symptoms\"])\n",
    "text_count_2 = tfidf.transform(test_df_3[\"symptoms\"])"
   ]
  },
  {
   "cell_type": "code",
   "execution_count": 22,
   "id": "9eae44a6",
   "metadata": {},
   "outputs": [],
   "source": [
    "x = text_count_1\n",
    "y = train_df_3['prognosis']\n",
    "\n",
    "x_train, x_test, y_train, y_test = train_test_split(x, y, test_size=0.20)\n"
   ]
  },
  {
   "cell_type": "code",
   "execution_count": null,
   "id": "6813d3f8",
   "metadata": {},
   "outputs": [],
   "source": []
  },
  {
   "cell_type": "code",
   "execution_count": 23,
   "id": "ea3d6378",
   "metadata": {},
   "outputs": [],
   "source": [
    "from sklearn.preprocessing import LabelEncoder\n",
    "label_encoder = LabelEncoder()\n",
    "\n",
    "# Fit label_encoder on the training labels and transform both training and test labels\n",
    "y_train_encoded = label_encoder.fit_transform(y_train)\n",
    "y_test_encoded = label_encoder.transform(y_test)\n",
    "\n"
   ]
  },
  {
   "cell_type": "code",
   "execution_count": 24,
   "id": "17c15bdf",
   "metadata": {},
   "outputs": [
    {
     "data": {
      "text/plain": [
       "array([25, 16, 40, ..., 15, 14, 24])"
      ]
     },
     "execution_count": 24,
     "metadata": {},
     "output_type": "execute_result"
    }
   ],
   "source": [
    "y_train_encoded"
   ]
  },
  {
   "cell_type": "code",
   "execution_count": 25,
   "id": "b881ba61",
   "metadata": {},
   "outputs": [
    {
     "data": {
      "text/plain": [
       "array([33, 22, 18,  6,  3, 10, 18,  1,  4, 34, 24, 14,  4, 24, 33, 26, 40,\n",
       "       28, 38, 24, 25, 23, 14, 37, 36, 15, 16, 26, 26, 28, 11,  8, 35, 14,\n",
       "        3, 32, 35, 28, 35, 12, 14, 25,  5, 34, 30, 29, 24, 15, 20, 31, 37,\n",
       "        9, 37, 15,  5, 22, 23, 39,  2,  9, 29,  8, 24,  0, 16, 38,  5, 19,\n",
       "       14,  8,  5, 34, 24, 33, 28, 12, 22, 35,  4, 14, 26, 15, 30, 32,  6,\n",
       "       28, 21, 28, 28,  6, 19, 15, 39,  4, 21, 37,  6, 27, 24, 16,  2, 11,\n",
       "       16, 34,  3, 40, 39, 15, 28,  7, 23, 35, 28,  5, 40, 23, 24, 15,  4,\n",
       "       23, 17, 13,  4, 26, 31,  5, 25,  3, 36, 22,  8,  5, 18,  7, 38, 10,\n",
       "       21,  9, 17,  5, 27,  5, 38, 19, 34, 37,  6, 16, 26, 15, 25, 33, 38,\n",
       "       24,  9, 31, 36, 38, 26, 15,  9,  0,  1, 29, 15,  7, 25, 22, 14, 17,\n",
       "        3,  0, 18,  7, 24,  5,  8,  7, 17, 14, 10, 31, 17, 26, 34, 15, 25,\n",
       "        1,  4,  5, 18, 18, 10,  9, 18, 12, 16, 15, 22, 20, 24,  7,  2, 19,\n",
       "       25, 20, 34, 20, 38, 40, 22,  8,  9, 16, 10, 40,  8, 35, 15, 13, 38,\n",
       "       11, 16, 15, 12, 12, 30, 37,  6,  6,  3, 28, 29, 24, 18, 31, 30, 11,\n",
       "       34,  6, 35, 27, 38, 38, 35, 29, 40,  5, 33, 38, 26,  2, 32, 31,  8,\n",
       "       39, 28, 39, 35, 40, 15, 13, 21,  2, 30, 40, 28, 16,  6, 13, 34, 33,\n",
       "       37,  5,  3, 29, 40, 40,  0, 11,  1, 26, 29, 23, 31, 33, 20,  4, 29,\n",
       "       32, 27, 25, 20, 40, 26, 18,  6,  1,  3, 20, 12, 40, 25, 27, 32,  9,\n",
       "        7, 39,  7, 18, 26,  7,  7, 39, 21, 18, 18, 40, 10, 10, 14, 22, 10,\n",
       "        2, 12,  3, 17, 18, 20, 16, 16, 24,  6, 30,  2, 28, 37, 30, 27, 30,\n",
       "       16, 29, 18, 35, 39, 39, 27,  3, 36, 38, 28, 14, 17, 35, 24,  1, 16,\n",
       "        6, 13, 12, 14, 10,  6, 36, 29, 33, 21, 37, 34,  3, 37, 36, 20, 22,\n",
       "        4,  2, 21, 29, 31, 38, 35, 26, 18,  5, 14, 39, 38, 16,  6,  2, 34,\n",
       "       38,  0, 10,  2, 37, 26, 39, 12, 14,  9, 15, 15, 15,  5, 22,  8, 15,\n",
       "       33,  1, 18, 27, 11, 39,  0,  7, 32,  9,  8, 18, 29, 33,  6, 15, 18,\n",
       "        3,  5,  4, 22, 18, 31, 34, 30, 21, 32, 21, 33, 10,  1, 32, 12,  8,\n",
       "        6,  4,  7, 16, 10,  8, 21, 25, 32,  1, 10, 29,  7, 23, 36,  0, 12,\n",
       "       27, 13,  5, 12,  6, 11, 10,  7, 39, 40, 35, 40, 18, 10, 35, 21, 37,\n",
       "       14, 33,  2, 16, 30, 38,  4,  3,  6,  9, 39,  7,  6, 22, 23, 27,  4,\n",
       "       12, 38, 35, 33, 17, 20, 17, 31, 11,  0, 25, 32,  0, 28, 20, 12, 28,\n",
       "        5, 13, 31,  6, 31, 22, 19, 28, 10, 24,  8, 33, 10,  7, 40, 19,  6,\n",
       "       32,  5, 39, 32, 30, 40, 25, 28, 11, 17, 24, 31, 11, 22,  7, 18,  9,\n",
       "        9, 31, 21, 38, 18, 30, 19, 40, 11, 16, 32, 32, 34, 13, 11, 15, 11,\n",
       "       25,  6,  3, 40, 15,  7,  0, 34, 13, 30, 26, 33,  5,  1, 35, 33,  1,\n",
       "       15, 25, 11,  7, 38, 17,  6, 40, 11, 38,  1, 39, 14, 27,  2,  1,  8,\n",
       "       18, 34,  3, 30, 11, 28, 33,  8, 34, 14, 16, 31, 14, 16,  6, 31, 18,\n",
       "       16, 17, 19, 11, 30, 32, 25,  5, 25, 36, 39,  5, 10,  0, 18, 30, 40,\n",
       "       11, 40, 39, 14, 27, 14,  6,  6, 16, 12, 15,  1, 26, 37, 40, 36, 40,\n",
       "       13, 39,  9, 30,  2,  5, 25, 16, 39, 33, 15, 18,  3, 27, 30,  8, 32,\n",
       "       10,  7,  4, 11, 37, 13, 22, 28, 25, 19, 18,  0,  7, 15, 14, 27, 24,\n",
       "       30, 37, 23, 37, 35, 21, 40, 26, 38, 19, 15, 19, 12, 32, 27, 31,  3,\n",
       "       34, 10, 20, 38, 37, 16, 33, 13,  1, 16, 17,  9, 30, 21, 21, 24, 15,\n",
       "        8,  1,  7, 21, 32, 22, 15, 36,  0,  9, 36, 20, 19, 32, 19, 35, 18,\n",
       "       29, 13, 40, 11, 32, 23, 15, 24, 19, 35,  3, 14,  2, 22, 19,  4, 16,\n",
       "       20,  8, 33, 35, 35, 34, 20, 36, 39, 14, 14, 23, 32,  5, 23, 26, 22,\n",
       "       12, 29, 11, 24, 24, 34, 38, 33, 20,  6,  6, 13,  9,  6, 28,  9,  4,\n",
       "       17, 33, 13, 11, 30, 33, 13, 26,  9,  5,  9, 24, 27, 17,  9, 19, 40,\n",
       "       23, 20, 30, 30, 33, 17, 20,  0,  7,  2, 38, 14,  5,  3,  9,  8,  8,\n",
       "       39, 23, 23, 15, 30, 21,  8,  4, 18, 40, 16, 21,  9, 19, 23,  2, 21,\n",
       "       26, 17,  1, 31,  0, 22, 35, 33, 38, 28, 33, 17, 30, 23, 10, 15,  2,\n",
       "       34, 18, 13, 35, 38, 10, 21, 35,  6, 20, 24, 37, 10, 16, 26, 16, 40,\n",
       "       12, 17, 20, 26, 37, 28, 18,  9, 16, 13,  9, 19, 31, 31, 23, 28, 27,\n",
       "       11, 24, 38, 38,  3, 36, 14, 11,  1,  4, 21,  7, 20, 35, 19, 15,  5,\n",
       "       29, 25,  1,  7, 12, 33, 20, 31, 31, 25, 14, 37,  5, 39, 20, 11, 22,\n",
       "       28, 39, 12, 21, 34, 18, 27, 40, 30, 13, 26, 30, 18, 12, 24, 34, 28,\n",
       "       34,  7, 39, 28, 21, 33, 17,  5, 10, 27, 31, 33, 40, 12, 40,  7, 24,\n",
       "       19, 35, 22, 35, 25,  7, 22, 13, 14, 31, 16, 16,  8,  7, 38, 30, 35,\n",
       "       36, 40, 34, 40, 11, 35, 34, 16, 37,  0, 20,  3, 25, 16, 25, 39, 38,\n",
       "       27, 17,  4, 32,  2, 31,  0])"
      ]
     },
     "execution_count": 25,
     "metadata": {},
     "output_type": "execute_result"
    }
   ],
   "source": [
    "y_test_encoded"
   ]
  },
  {
   "cell_type": "code",
   "execution_count": 26,
   "id": "bcb455c9",
   "metadata": {},
   "outputs": [],
   "source": [
    "test_y_dum = pd.get_dummies(y_test)"
   ]
  },
  {
   "cell_type": "code",
   "execution_count": 27,
   "id": "3c2c75bc",
   "metadata": {},
   "outputs": [],
   "source": [
    "test_x_df = pd.DataFrame(x_test.toarray())\n",
    "test_y_dum_df = pd.DataFrame(test_y_dum)"
   ]
  },
  {
   "cell_type": "code",
   "execution_count": 28,
   "id": "f4b6f5ce",
   "metadata": {},
   "outputs": [],
   "source": [
    "\n",
    "y_train_dum = pd.get_dummies(y_train)"
   ]
  },
  {
   "cell_type": "code",
   "execution_count": 29,
   "id": "d8db8307",
   "metadata": {},
   "outputs": [],
   "source": [
    "x_train_df = pd.DataFrame(x_train.toarray())\n",
    "y_train_dum_df = pd.DataFrame(y_train_dum)\n",
    "\n"
   ]
  },
  {
   "cell_type": "code",
   "execution_count": 30,
   "id": "4ce5a0f2",
   "metadata": {},
   "outputs": [
    {
     "name": "stdout",
     "output_type": "stream",
     "text": [
      "Model: \"sequential\"\n",
      "_________________________________________________________________\n",
      " Layer (type)                Output Shape              Param #   \n",
      "=================================================================\n",
      " dense (Dense)               (None, 64)                19648     \n",
      "                                                                 \n",
      " dense_1 (Dense)             (None, 48)                3120      \n",
      "                                                                 \n",
      " dense_2 (Dense)             (None, 41)                2009      \n",
      "                                                                 \n",
      "=================================================================\n",
      "Total params: 24,777\n",
      "Trainable params: 24,777\n",
      "Non-trainable params: 0\n",
      "_________________________________________________________________\n",
      "Epoch 1/10\n",
      "124/124 [==============================] - 1s 2ms/step - loss: 3.2849 - accuracy: 0.3964 - val_loss: 2.4104 - val_accuracy: 0.8308\n",
      "Epoch 2/10\n",
      "124/124 [==============================] - 0s 1ms/step - loss: 1.2186 - accuracy: 0.9105 - val_loss: 0.5677 - val_accuracy: 0.9486\n",
      "Epoch 3/10\n",
      "124/124 [==============================] - 0s 1ms/step - loss: 0.3340 - accuracy: 0.9645 - val_loss: 0.2454 - val_accuracy: 0.9728\n",
      "Epoch 4/10\n",
      "124/124 [==============================] - 0s 1ms/step - loss: 0.1627 - accuracy: 0.9849 - val_loss: 0.1460 - val_accuracy: 0.9829\n",
      "Epoch 5/10\n",
      "124/124 [==============================] - 0s 2ms/step - loss: 0.0977 - accuracy: 0.9912 - val_loss: 0.0992 - val_accuracy: 0.9869\n",
      "Epoch 6/10\n",
      "124/124 [==============================] - 0s 1ms/step - loss: 0.0640 - accuracy: 0.9955 - val_loss: 0.0712 - val_accuracy: 0.9909\n",
      "Epoch 7/10\n",
      "124/124 [==============================] - 0s 1ms/step - loss: 0.0430 - accuracy: 0.9977 - val_loss: 0.0592 - val_accuracy: 0.9909\n",
      "Epoch 8/10\n",
      "124/124 [==============================] - 0s 2ms/step - loss: 0.0320 - accuracy: 0.9980 - val_loss: 0.0470 - val_accuracy: 0.9909\n",
      "Epoch 9/10\n",
      "124/124 [==============================] - 0s 1ms/step - loss: 0.0238 - accuracy: 0.9995 - val_loss: 0.0392 - val_accuracy: 0.9909\n",
      "Epoch 10/10\n",
      "124/124 [==============================] - 0s 2ms/step - loss: 0.0184 - accuracy: 0.9992 - val_loss: 0.0344 - val_accuracy: 0.9940\n"
     ]
    }
   ],
   "source": [
    "\n",
    "#y_train_one_hot = to_categorical(y_train)\n",
    "\n",
    "classifier = Sequential()\n",
    "\n",
    "classifier.add(Dense(64, activation=\"relu\", input_dim=x_train.shape[1]))\n",
    "classifier.add(Dense(48, activation=\"relu\"))\n",
    "classifier.add(Dense(y_train_dum.shape[1], activation=\"softmax\"))\n",
    "\n",
    "classifier.compile(optimizer=\"adam\", loss=\"categorical_crossentropy\", metrics=[\"accuracy\"])\n",
    "\n",
    "classifier.summary()\n",
    "\n",
    "#nn = classifier.fit(x_train_df, y_train_dum_df, epochs=15, validation_data = test_generator, shuffle=True, \n",
    "                   # validation_steps=len(test_generator) batch_size=30)\n",
    "\n",
    "nn = classifier.fit(x_train_df, y_train_dum_df, epochs=10, validation_data = (test_x_df,test_y_dum_df), shuffle=True)\n",
    "\n",
    "#print('Test Score of Neural Network is : ' , classifier.score(x_test, y_test))\n"
   ]
  },
  {
   "cell_type": "code",
   "execution_count": 31,
   "id": "a31bdcbd",
   "metadata": {},
   "outputs": [
    {
     "data": {
      "image/png": "[encoded data removed]",
      "text/plain": [
       "<Figure size 1440x720 with 2 Axes>"
      ]
     },
     "metadata": {
      "needs_background": "light"
     },
     "output_type": "display_data"
    }
   ],
   "source": [
    "plt.figure(figsize=(20,10))\n",
    "plt.subplot(1, 2, 1)\n",
    "plt.suptitle('Optimizer : Adam', fontsize=10)\n",
    "plt.ylabel('Loss', fontsize=16)\n",
    "plt.plot(nn.history['loss'], label='Training Loss')\n",
    "plt.plot(nn.history['val_loss'], label='Validation Loss')\n",
    "plt.legend(loc='upper right')\n",
    "\n",
    "plt.subplot(1, 2, 2)\n",
    "plt.ylabel('Accuracy', fontsize=16)\n",
    "plt.plot(nn.history['accuracy'], label='Training Accuracy')\n",
    "plt.plot(nn.history['val_accuracy'], label='Validation Accuracy')\n",
    "plt.legend(loc='lower right')\n",
    "plt.show()\n",
    "\n",
    "\n"
   ]
  },
  {
   "cell_type": "code",
   "execution_count": null,
   "id": "30b47ad7",
   "metadata": {},
   "outputs": [],
   "source": []
  },
  {
   "cell_type": "code",
   "execution_count": 35,
   "id": "a73a1a33",
   "metadata": {},
   "outputs": [
    {
     "name": "stdout",
     "output_type": "stream",
     "text": [
      "32/32 [==============================] - 0s 1ms/step\n",
      "Accuracy Score of Neural Netowkrk:  0.9939577039274925\n",
      "Precision Score of Neural Network:  0.9943356951344835\n",
      "Recall Score of Neural Network:  0.9939577039274925\n",
      "F1-Score of Neural Network:  0.9939493483045831\n"
     ]
    }
   ],
   "source": [
    "pred_nn1 = classifier.predict(test_x_df)\n",
    "pred_nn1_multiclass = np.argmax(pred_nn1, axis=1)\n",
    "\n",
    "\n",
    "print(\"Accuracy Score of Neural Netowkrk: \", metrics.accuracy_score(y_test_encoded, pred_nn1_multiclass))\n",
    "print(\"Precision Score of Neural Network: \", metrics.precision_score(y_test_encoded, pred_nn1_multiclass, average= 'weighted'))\n",
    "print(\"Recall Score of Neural Network: \", metrics.recall_score(y_test_encoded, pred_nn1_multiclass, average='weighted'))\n",
    "print(\"F1-Score of Neural Network: \", metrics.f1_score(y_test_encoded, pred_nn1_multiclass, average='macro'))\n"
   ]
  },
  {
   "cell_type": "code",
   "execution_count": 33,
   "id": "ddee96d3",
   "metadata": {},
   "outputs": [
    {
     "data": {
      "text/plain": [
       "array([33, 22, 18,  6,  3, 10, 18,  1,  4, 34, 24, 14,  4, 24, 33, 26, 40,\n",
       "       28, 38, 24, 25, 23, 14, 37, 36, 15, 16, 26, 26, 28, 11,  8, 35, 14,\n",
       "        3, 32, 35, 28, 35, 12, 14, 25,  5, 34, 30, 29, 24, 15, 20, 31, 37,\n",
       "        9, 37, 15,  5, 22, 23, 39,  2,  9, 29,  8, 24,  0, 16, 38,  5, 19,\n",
       "       14,  8,  5, 34, 24, 33, 28, 12, 22, 35,  4, 14, 26, 15, 30, 32,  6,\n",
       "       28, 21, 28, 28,  6, 19, 15, 39,  4, 21, 37,  6, 27, 24, 16,  2, 11,\n",
       "       16, 34,  3, 40, 39, 15, 28,  7, 23, 35, 28,  5, 40, 23, 24, 15,  4,\n",
       "       23, 17, 13,  4, 26, 31,  5, 25,  3, 36, 22,  8,  5, 18,  7, 38, 10,\n",
       "       21,  9, 17,  5, 27,  5, 38, 19, 34, 37,  6, 16, 26, 15, 25, 33, 38,\n",
       "       24,  9, 31, 36, 38, 26, 15,  9,  0,  1, 29, 15,  7, 25, 22, 14, 17,\n",
       "        3,  0, 18,  7, 24,  5,  8,  7, 17, 14, 10, 31, 17, 26, 34, 15, 25,\n",
       "        1,  4,  5, 18, 18, 10,  9, 18, 12, 16, 15, 22, 20, 24,  7,  2, 19,\n",
       "       25, 20, 34, 20, 38, 20, 22,  8,  9, 16, 10, 40,  8, 35, 15, 13, 38,\n",
       "       11, 16, 15, 12, 12, 30, 37,  6,  6,  3, 28, 29, 24, 18, 31, 30, 11,\n",
       "       34,  6, 35, 27, 38, 38, 35, 29, 40,  5, 33, 38, 26,  2, 32, 31,  8,\n",
       "       39, 28, 39, 35, 40, 15, 13, 21,  2, 30, 40, 28, 16,  6, 13, 34, 33,\n",
       "       37,  5,  3, 29, 40, 40,  0, 11,  1, 26, 29, 23, 31, 33, 20,  4, 29,\n",
       "       32, 27, 25,  8, 40, 26, 18,  6,  1,  3, 20, 12, 40, 25, 27, 32,  9,\n",
       "        7, 39,  7, 18, 26,  7,  7, 39, 21, 18, 18, 40, 10, 10, 14, 22, 10,\n",
       "        2, 12,  3, 17, 18, 20, 16, 16, 24,  6, 30,  2, 28, 37, 30, 27, 30,\n",
       "       16, 29, 18, 35, 39, 39, 27,  3, 36, 38, 28, 14, 17, 35, 24,  1, 16,\n",
       "        6, 13, 12, 14, 10,  6, 36, 29, 33, 21, 37, 34,  3, 37, 36, 20, 22,\n",
       "        4,  2, 21, 29, 31, 38, 35, 26, 18,  5, 14, 39, 38, 16,  6,  2, 34,\n",
       "       38,  0, 10,  2, 37, 26, 39, 12, 14,  9, 15, 15, 15,  5, 22,  8, 15,\n",
       "       33,  1, 18, 27, 11, 39,  0,  7, 32,  9,  8, 18, 29, 33,  6, 15, 18,\n",
       "        3,  5,  4, 22, 18, 31, 34, 30, 21, 32, 21, 33, 10,  1, 32, 12,  8,\n",
       "        6,  4,  7, 16, 10,  8, 21, 25, 32,  1, 10, 29,  7, 23, 36,  0, 12,\n",
       "       27, 13,  5, 12,  6, 11, 10,  7, 39, 40, 35, 40, 18, 10, 35, 21, 37,\n",
       "       14, 33,  2, 16, 30, 38,  4,  3,  6,  9, 39,  7,  6, 22, 23, 27,  4,\n",
       "       12, 38, 35, 33, 17, 20, 17, 31, 11,  0, 25, 32,  0, 28, 20, 12, 28,\n",
       "        5, 13, 31,  6, 31, 22, 19, 28, 10, 24,  8, 33, 10,  7, 40, 19,  6,\n",
       "       32,  5, 39, 32, 30, 40, 25, 28, 11, 17, 24, 31, 11, 22,  7, 18,  9,\n",
       "        9, 31, 21, 38, 18, 30, 19, 40, 11, 16, 32, 32, 34, 13, 11, 15, 11,\n",
       "       25,  6,  3, 40, 15,  7,  0, 34, 13, 30, 26, 33,  5,  1, 35, 33,  1,\n",
       "       15, 25, 11,  7, 38, 17,  6, 40, 11, 38,  1, 39, 14, 27,  2,  1,  8,\n",
       "       18, 34,  3, 30, 11, 28, 33,  8, 34, 14, 16, 31, 14, 16,  6, 31, 18,\n",
       "       16, 17, 19, 11, 30, 32, 25,  5, 25, 36, 39,  5, 10,  0, 18, 30, 40,\n",
       "       11, 40, 39, 14, 27, 14,  6,  6, 16, 12, 15,  1, 26, 37, 40, 36, 40,\n",
       "       13, 39,  9, 30,  2,  5, 25, 16, 39, 33, 15, 18,  3, 27, 30,  8, 32,\n",
       "       10,  7,  4, 11, 37, 13, 22, 28, 25, 19, 18,  0,  7, 15, 14, 27, 24,\n",
       "       30, 37, 23, 37, 35, 21, 40, 26, 38, 19, 15, 19, 12, 32, 27, 31,  3,\n",
       "       34, 10, 20, 38, 37, 16, 33, 13,  1, 16, 17,  9, 30, 21, 21, 24, 15,\n",
       "        8,  1,  7, 21, 32, 22, 15, 36,  0,  9, 36, 20, 19, 32, 19, 35, 18,\n",
       "       29, 13, 40, 11, 32, 23, 15, 24, 19, 35,  3, 14,  2, 22, 19,  4, 16,\n",
       "       20,  8, 33, 35, 35, 34, 20, 36, 39, 14, 14, 23, 32,  5, 23, 26, 22,\n",
       "       12, 29, 11, 24, 24, 34, 38, 33, 20,  6,  6, 13,  9,  6, 28,  9,  4,\n",
       "       17, 33, 13, 11, 30, 33, 13, 26,  9,  5,  9, 24, 27, 16,  9, 19, 40,\n",
       "       23, 20, 30, 30, 33, 17, 20,  0,  7,  2, 38, 14,  5,  3,  9,  8,  8,\n",
       "       39, 23, 23, 15, 30, 21,  8,  4, 18, 40, 16, 21,  9, 19, 23,  2, 21,\n",
       "       26, 17,  1, 31,  0, 22, 35, 33, 38, 28, 33, 17, 30, 23, 10, 15,  2,\n",
       "       34, 18, 13, 35, 38, 10, 21, 35,  6, 20, 24, 37, 10, 16, 26, 16, 40,\n",
       "       12, 17, 20, 26, 37, 28, 18,  9, 16, 13,  9, 19, 31, 31, 23, 28, 27,\n",
       "       11, 24, 38, 38,  3, 36, 14, 11,  1,  4, 21,  7, 20, 35,  8, 15,  5,\n",
       "       29, 25,  1,  7, 12, 33,  8, 31, 31, 25, 14, 37,  5, 39, 20, 11, 22,\n",
       "       28, 39, 12, 21, 34, 18, 27, 40, 30, 13, 26, 30, 18, 12, 24, 34, 28,\n",
       "       34,  7, 39, 28, 21, 33, 15,  5, 10, 27, 31, 33, 40, 12, 40,  7, 24,\n",
       "       19, 35, 22, 35, 25,  7, 22, 13, 14, 31, 16, 16,  8,  7, 38, 30, 35,\n",
       "       36, 40, 34, 40, 11, 35, 34, 16, 37,  0, 20,  3, 25, 16, 25, 39, 38,\n",
       "       27, 17,  4, 32,  2, 31,  0], dtype=int64)"
      ]
     },
     "execution_count": 33,
     "metadata": {},
     "output_type": "execute_result"
    }
   ],
   "source": [
    "pred_nn1_multiclass"
   ]
  },
  {
   "cell_type": "code",
   "execution_count": 34,
   "id": "dba53b19",
   "metadata": {},
   "outputs": [
    {
     "data": {
      "text/plain": [
       "array([33, 22, 18,  6,  3, 10, 18,  1,  4, 34, 24, 14,  4, 24, 33, 26, 40,\n",
       "       28, 38, 24, 25, 23, 14, 37, 36, 15, 16, 26, 26, 28, 11,  8, 35, 14,\n",
       "        3, 32, 35, 28, 35, 12, 14, 25,  5, 34, 30, 29, 24, 15, 20, 31, 37,\n",
       "        9, 37, 15,  5, 22, 23, 39,  2,  9, 29,  8, 24,  0, 16, 38,  5, 19,\n",
       "       14,  8,  5, 34, 24, 33, 28, 12, 22, 35,  4, 14, 26, 15, 30, 32,  6,\n",
       "       28, 21, 28, 28,  6, 19, 15, 39,  4, 21, 37,  6, 27, 24, 16,  2, 11,\n",
       "       16, 34,  3, 40, 39, 15, 28,  7, 23, 35, 28,  5, 40, 23, 24, 15,  4,\n",
       "       23, 17, 13,  4, 26, 31,  5, 25,  3, 36, 22,  8,  5, 18,  7, 38, 10,\n",
       "       21,  9, 17,  5, 27,  5, 38, 19, 34, 37,  6, 16, 26, 15, 25, 33, 38,\n",
       "       24,  9, 31, 36, 38, 26, 15,  9,  0,  1, 29, 15,  7, 25, 22, 14, 17,\n",
       "        3,  0, 18,  7, 24,  5,  8,  7, 17, 14, 10, 31, 17, 26, 34, 15, 25,\n",
       "        1,  4,  5, 18, 18, 10,  9, 18, 12, 16, 15, 22, 20, 24,  7,  2, 19,\n",
       "       25, 20, 34, 20, 38, 40, 22,  8,  9, 16, 10, 40,  8, 35, 15, 13, 38,\n",
       "       11, 16, 15, 12, 12, 30, 37,  6,  6,  3, 28, 29, 24, 18, 31, 30, 11,\n",
       "       34,  6, 35, 27, 38, 38, 35, 29, 40,  5, 33, 38, 26,  2, 32, 31,  8,\n",
       "       39, 28, 39, 35, 40, 15, 13, 21,  2, 30, 40, 28, 16,  6, 13, 34, 33,\n",
       "       37,  5,  3, 29, 40, 40,  0, 11,  1, 26, 29, 23, 31, 33, 20,  4, 29,\n",
       "       32, 27, 25, 20, 40, 26, 18,  6,  1,  3, 20, 12, 40, 25, 27, 32,  9,\n",
       "        7, 39,  7, 18, 26,  7,  7, 39, 21, 18, 18, 40, 10, 10, 14, 22, 10,\n",
       "        2, 12,  3, 17, 18, 20, 16, 16, 24,  6, 30,  2, 28, 37, 30, 27, 30,\n",
       "       16, 29, 18, 35, 39, 39, 27,  3, 36, 38, 28, 14, 17, 35, 24,  1, 16,\n",
       "        6, 13, 12, 14, 10,  6, 36, 29, 33, 21, 37, 34,  3, 37, 36, 20, 22,\n",
       "        4,  2, 21, 29, 31, 38, 35, 26, 18,  5, 14, 39, 38, 16,  6,  2, 34,\n",
       "       38,  0, 10,  2, 37, 26, 39, 12, 14,  9, 15, 15, 15,  5, 22,  8, 15,\n",
       "       33,  1, 18, 27, 11, 39,  0,  7, 32,  9,  8, 18, 29, 33,  6, 15, 18,\n",
       "        3,  5,  4, 22, 18, 31, 34, 30, 21, 32, 21, 33, 10,  1, 32, 12,  8,\n",
       "        6,  4,  7, 16, 10,  8, 21, 25, 32,  1, 10, 29,  7, 23, 36,  0, 12,\n",
       "       27, 13,  5, 12,  6, 11, 10,  7, 39, 40, 35, 40, 18, 10, 35, 21, 37,\n",
       "       14, 33,  2, 16, 30, 38,  4,  3,  6,  9, 39,  7,  6, 22, 23, 27,  4,\n",
       "       12, 38, 35, 33, 17, 20, 17, 31, 11,  0, 25, 32,  0, 28, 20, 12, 28,\n",
       "        5, 13, 31,  6, 31, 22, 19, 28, 10, 24,  8, 33, 10,  7, 40, 19,  6,\n",
       "       32,  5, 39, 32, 30, 40, 25, 28, 11, 17, 24, 31, 11, 22,  7, 18,  9,\n",
       "        9, 31, 21, 38, 18, 30, 19, 40, 11, 16, 32, 32, 34, 13, 11, 15, 11,\n",
       "       25,  6,  3, 40, 15,  7,  0, 34, 13, 30, 26, 33,  5,  1, 35, 33,  1,\n",
       "       15, 25, 11,  7, 38, 17,  6, 40, 11, 38,  1, 39, 14, 27,  2,  1,  8,\n",
       "       18, 34,  3, 30, 11, 28, 33,  8, 34, 14, 16, 31, 14, 16,  6, 31, 18,\n",
       "       16, 17, 19, 11, 30, 32, 25,  5, 25, 36, 39,  5, 10,  0, 18, 30, 40,\n",
       "       11, 40, 39, 14, 27, 14,  6,  6, 16, 12, 15,  1, 26, 37, 40, 36, 40,\n",
       "       13, 39,  9, 30,  2,  5, 25, 16, 39, 33, 15, 18,  3, 27, 30,  8, 32,\n",
       "       10,  7,  4, 11, 37, 13, 22, 28, 25, 19, 18,  0,  7, 15, 14, 27, 24,\n",
       "       30, 37, 23, 37, 35, 21, 40, 26, 38, 19, 15, 19, 12, 32, 27, 31,  3,\n",
       "       34, 10, 20, 38, 37, 16, 33, 13,  1, 16, 17,  9, 30, 21, 21, 24, 15,\n",
       "        8,  1,  7, 21, 32, 22, 15, 36,  0,  9, 36, 20, 19, 32, 19, 35, 18,\n",
       "       29, 13, 40, 11, 32, 23, 15, 24, 19, 35,  3, 14,  2, 22, 19,  4, 16,\n",
       "       20,  8, 33, 35, 35, 34, 20, 36, 39, 14, 14, 23, 32,  5, 23, 26, 22,\n",
       "       12, 29, 11, 24, 24, 34, 38, 33, 20,  6,  6, 13,  9,  6, 28,  9,  4,\n",
       "       17, 33, 13, 11, 30, 33, 13, 26,  9,  5,  9, 24, 27, 17,  9, 19, 40,\n",
       "       23, 20, 30, 30, 33, 17, 20,  0,  7,  2, 38, 14,  5,  3,  9,  8,  8,\n",
       "       39, 23, 23, 15, 30, 21,  8,  4, 18, 40, 16, 21,  9, 19, 23,  2, 21,\n",
       "       26, 17,  1, 31,  0, 22, 35, 33, 38, 28, 33, 17, 30, 23, 10, 15,  2,\n",
       "       34, 18, 13, 35, 38, 10, 21, 35,  6, 20, 24, 37, 10, 16, 26, 16, 40,\n",
       "       12, 17, 20, 26, 37, 28, 18,  9, 16, 13,  9, 19, 31, 31, 23, 28, 27,\n",
       "       11, 24, 38, 38,  3, 36, 14, 11,  1,  4, 21,  7, 20, 35, 19, 15,  5,\n",
       "       29, 25,  1,  7, 12, 33, 20, 31, 31, 25, 14, 37,  5, 39, 20, 11, 22,\n",
       "       28, 39, 12, 21, 34, 18, 27, 40, 30, 13, 26, 30, 18, 12, 24, 34, 28,\n",
       "       34,  7, 39, 28, 21, 33, 17,  5, 10, 27, 31, 33, 40, 12, 40,  7, 24,\n",
       "       19, 35, 22, 35, 25,  7, 22, 13, 14, 31, 16, 16,  8,  7, 38, 30, 35,\n",
       "       36, 40, 34, 40, 11, 35, 34, 16, 37,  0, 20,  3, 25, 16, 25, 39, 38,\n",
       "       27, 17,  4, 32,  2, 31,  0])"
      ]
     },
     "execution_count": 34,
     "metadata": {},
     "output_type": "execute_result"
    }
   ],
   "source": [
    "y_test_encoded"
   ]
  },
  {
   "cell_type": "code",
   "execution_count": 36,
   "id": "f91c05d3",
   "metadata": {},
   "outputs": [],
   "source": [
    "x = \"Itching. Reported signs of dischromic patches. Patient reports no patches in throat. Issues of frequent skin rash. Patient reports no spotting urination. Patient reports no stomach pain. nodal skin eruptions over the last few days.\""
   ]
  },
  {
   "cell_type": "code",
   "execution_count": 37,
   "id": "b911b39e",
   "metadata": {},
   "outputs": [],
   "source": [
    "x = removeurl(x)\n",
    "x = removeHTMLTags(x)\n",
    "x = removeApostrophe(x)\n",
    "x = removeAlphaNumericWords(x)\n",
    "x = removeSpecialChars(x)\n",
    "\n",
    "# Lower casing & Tokenization\n",
    "x = x.strip().lower()\n",
    "\n",
    "x = dostemming(x)"
   ]
  },
  {
   "cell_type": "code",
   "execution_count": 39,
   "id": "743b89d4",
   "metadata": {},
   "outputs": [],
   "source": [
    "text_count_3 = tfidf.transform([x])"
   ]
  },
  {
   "cell_type": "code",
   "execution_count": 43,
   "id": "95860a0f",
   "metadata": {},
   "outputs": [],
   "source": [
    "pred_output = dt.predict(text_count_3)"
   ]
  },
  {
   "cell_type": "code",
   "execution_count": 44,
   "id": "022ebb10",
   "metadata": {},
   "outputs": [
    {
     "data": {
      "text/plain": [
       "array(['Fungal infection'], dtype=object)"
      ]
     },
     "execution_count": 44,
     "metadata": {},
     "output_type": "execute_result"
    }
   ],
   "source": [
    "pred_output"
   ]
  },
  {
   "cell_type": "code",
   "execution_count": null,
   "id": "b504ff0b",
   "metadata": {},
   "outputs": [],
   "source": []
  }
 ],
 "metadata": {
  "kernelspec": {
   "display_name": "Python 3 (ipykernel)",
   "language": "python",
   "name": "python3"
  },
  "language_info": {
   "codemirror_mode": {
    "name": "ipython",
    "version": 3
   },
   "file_extension": ".py",
   "mimetype": "text/x-python",
   "name": "python",
   "nbconvert_exporter": "python",
   "pygments_lexer": "ipython3",
   "version": "3.9.12"
  }
 },
 "nbformat": 4,
 "nbformat_minor": 5
}
